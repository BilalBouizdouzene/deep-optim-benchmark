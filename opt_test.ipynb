{
  "cells": [
    {
      "cell_type": "code",
      "execution_count": 1,
      "id": "6fe2d624",
      "metadata": {
        "vscode": {
          "languageId": "plaintext"
        },
        "id": "6fe2d624",
        "outputId": "8d36de16-2308-43f8-d72c-a7ed160f601b",
        "colab": {
          "base_uri": "https://localhost:8080/",
          "height": 211
        }
      },
      "outputs": [
        {
          "output_type": "error",
          "ename": "NameError",
          "evalue": "name 'null' is not defined",
          "traceback": [
            "\u001b[0;31m---------------------------------------------------------------------------\u001b[0m",
            "\u001b[0;31mNameError\u001b[0m                                 Traceback (most recent call last)",
            "\u001b[0;32m/tmp/ipython-input-1-2923699742.py\u001b[0m in \u001b[0;36m<cell line: 0>\u001b[0;34m()\u001b[0m\n\u001b[1;32m     15\u001b[0m   {\n\u001b[1;32m     16\u001b[0m    \u001b[0;34m\"cell_type\"\u001b[0m\u001b[0;34m:\u001b[0m \u001b[0;34m\"code\"\u001b[0m\u001b[0;34m,\u001b[0m\u001b[0;34m\u001b[0m\u001b[0;34m\u001b[0m\u001b[0m\n\u001b[0;32m---> 17\u001b[0;31m    \u001b[0;34m\"execution_count\"\u001b[0m\u001b[0;34m:\u001b[0m \u001b[0mnull\u001b[0m\u001b[0;34m,\u001b[0m\u001b[0;34m\u001b[0m\u001b[0;34m\u001b[0m\u001b[0m\n\u001b[0m\u001b[1;32m     18\u001b[0m    \u001b[0;34m\"metadata\"\u001b[0m\u001b[0;34m:\u001b[0m \u001b[0;34m{\u001b[0m\u001b[0;34m}\u001b[0m\u001b[0;34m,\u001b[0m\u001b[0;34m\u001b[0m\u001b[0;34m\u001b[0m\u001b[0m\n\u001b[1;32m     19\u001b[0m    \u001b[0;34m\"outputs\"\u001b[0m\u001b[0;34m:\u001b[0m \u001b[0;34m[\u001b[0m\u001b[0;34m]\u001b[0m\u001b[0;34m,\u001b[0m\u001b[0;34m\u001b[0m\u001b[0;34m\u001b[0m\u001b[0m\n",
            "\u001b[0;31mNameError\u001b[0m: name 'null' is not defined"
          ]
        }
      ],
      "source": [
        "{\n",
        " \"cells\": [\n",
        "  {\n",
        "   \"cell_type\": \"markdown\",\n",
        "   \"metadata\": {},\n",
        "   \"source\": [\n",
        "    \"# 🔍 Comparaison des Optimiseurs en Deep Learning\\n\",\n",
        "    \"\\n\",\n",
        "    \"Ce notebook compare les performances de différents optimiseurs sur FashionMNIST\\n\",\n",
        "    \"- Optimiseurs : SGD, Adam, RMSprop\\n\",\n",
        "    \"- Scheduler : Cosine Annealing LR\\n\",\n",
        "    \"- Logging avec WandB\\n\"\n",
        "   ]\n",
        "  },\n",
        "  {\n",
        "   \"cell_type\": \"code\",\n",
        "   \"execution_count\": null,\n",
        "   \"metadata\": {},\n",
        "   \"outputs\": [],\n",
        "   \"source\": [\n",
        "    \"!pip install wandb --quiet\\n\",\n",
        "    \"import wandb\\n\",\n",
        "    \"wandb.login()\"\n",
        "   ]\n",
        "  },\n",
        "  {\n",
        "   \"cell_type\": \"code\",\n",
        "   \"execution_count\": null,\n",
        "   \"metadata\": {},\n",
        "   \"outputs\": [],\n",
        "   \"source\": [\n",
        "    \"import torch\\n\",\n",
        "    \"import torch.nn as nn\\n\",\n",
        "    \"import torch.optim as optim\\n\",\n",
        "    \"from torchvision import datasets, transforms\\n\",\n",
        "    \"from torch.utils.data import DataLoader\\n\",\n",
        "    \"\\n\",\n",
        "    \"transform = transforms.ToTensor()\\n\",\n",
        "    \"train_data = datasets.FashionMNIST(root='./data', train=True, download=True, transform=transform)\\n\",\n",
        "    \"test_data = datasets.FashionMNIST(root='./data', train=False, download=True, transform=transform)\\n\",\n",
        "    \"\\n\",\n",
        "    \"train_loader = DataLoader(train_data, batch_size=64, shuffle=True)\\n\",\n",
        "    \"test_loader = DataLoader(test_data, batch_size=1000)\"\n",
        "   ]\n",
        "  },\n",
        "  {\n",
        "   \"cell_type\": \"code\",\n",
        "   \"execution_count\": null,\n",
        "   \"metadata\": {},\n",
        "   \"outputs\": [],\n",
        "   \"source\": [\n",
        "    \"class SimpleCNN(nn.Module):\\n\",\n",
        "    \"    def __init__(self):\\n\",\n",
        "    \"        super().__init__()\\n\",\n",
        "    \"        self.conv = nn.Sequential(\\n\",\n",
        "    \"            nn.Conv2d(1, 32, 3, padding=1),\\n\",\n",
        "    \"            nn.ReLU(),\\n\",\n",
        "    \"            nn.MaxPool2d(2)\\n\",\n",
        "    \"        )\\n\",\n",
        "    \"        self.fc = nn.Sequential(\\n\",\n",
        "    \"            nn.Flatten(),\\n\",\n",
        "    \"            nn.Linear(32 * 14 * 14, 128),\\n\",\n",
        "    \"            nn.ReLU(),\\n\",\n",
        "    \"            nn.Linear(128, 10)\\n\",\n",
        "    \"        )\\n\",\n",
        "    \"    def forward(self, x):\\n\",\n",
        "    \"        x = self.conv(x)\\n\",\n",
        "    \"        x = self.fc(x)\\n\",\n",
        "    \"        return x\"\n",
        "   ]\n",
        "  }\n",
        " ],\n",
        " \"metadata\": {\n",
        "  \"kernelspec\": {\n",
        "   \"display_name\": \"Python 3\",\n",
        "   \"language\": \"python\",\n",
        "   \"name\": \"python3\"\n",
        "  },\n",
        "  \"language_info\": {\n",
        "   \"name\": \"python\",\n",
        "   \"version\": \"\"\n",
        "  }\n",
        " },\n",
        " \"nbformat\": 4,\n",
        " \"nbformat_minor\": 5\n",
        "}\n"
      ]
    }
  ],
  "metadata": {
    "language_info": {
      "name": "python"
    },
    "colab": {
      "provenance": []
    },
    "kernelspec": {
      "name": "python3",
      "display_name": "Python 3"
    }
  },
  "nbformat": 4,
  "nbformat_minor": 5
}